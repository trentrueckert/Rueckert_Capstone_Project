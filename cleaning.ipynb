{
 "cells": [
  {
   "cell_type": "markdown",
   "id": "1787bee5",
   "metadata": {},
   "source": [
    "# Data Cleaning Script\n",
    "## Import Libraries"
   ]
  },
  {
   "cell_type": "code",
   "execution_count": 2,
   "id": "3b972e88",
   "metadata": {},
   "outputs": [],
   "source": [
    "import pandas as pd"
   ]
  },
  {
   "cell_type": "markdown",
   "id": "90b80ef8",
   "metadata": {},
   "source": [
    "## Load the dataset"
   ]
  },
  {
   "cell_type": "code",
   "execution_count": 12,
   "id": "f9a9f4c6",
   "metadata": {},
   "outputs": [
    {
     "name": "stdout",
     "output_type": "stream",
     "text": [
      "<bound method NDFrame.head of             date  season team opponent  runs  oppRuns  moneyLine  runLine  \\\n",
      "0      3/22/2014    2014  LAD      ARI     3        1       -170     -1.5   \n",
      "1      3/22/2014    2014  ARI      LAD     1        3        150      1.5   \n",
      "2      3/23/2014    2014  LAD      ARI     7        5       -119     -1.5   \n",
      "3      3/23/2014    2014  ARI      LAD     5        7        109      1.5   \n",
      "4      3/30/2014    2014   SD      LAD     3        1        105      1.5   \n",
      "...          ...     ...  ...      ...   ...      ...        ...      ...   \n",
      "35803  10/3/2021    2021  CHC      STL     3        2        148      1.5   \n",
      "35804  10/3/2021    2021  NYY       TB     1        0       -124     -1.5   \n",
      "35805  10/3/2021    2021  CLE      TEX     6        0        102      1.5   \n",
      "35806  10/3/2021    2021  BAL      TOR     4       12        300      1.5   \n",
      "35807  10/3/2021    2021  BOS      WSH     7        5       -210     -1.5   \n",
      "\n",
      "       runLineOdds  total  overOdds  underOdds  oppMoneyLine  oppRunLine  \\\n",
      "0             -104    6.5      -120        100           150         1.5   \n",
      "1             -116    6.5      -120        100          -170        -1.5   \n",
      "2              140    7.5      -115       -105           109         1.5   \n",
      "3             -160    7.5      -115       -105          -119        -1.5   \n",
      "4             -170    6.5      -105       -115          -115        -1.5   \n",
      "...            ...    ...       ...        ...           ...         ...   \n",
      "35803         -140    8.5      -110       -110          -158        -1.5   \n",
      "35804          150    9.5       100       -120           114         1.5   \n",
      "35805         -200    8.0      -110       -110          -112        -1.5   \n",
      "35806          160   10.0      -105       -115          -350        -1.5   \n",
      "35807         -140    9.5       100       -120           190         1.5   \n",
      "\n",
      "       oppRunLineOdds  projectedRuns               parkName  totalRuns  runDif  \n",
      "0                -116           4.09  Sydney Cricket Ground          4       2  \n",
      "1                -104           2.60  Sydney Cricket Ground          4      -2  \n",
      "2                -160           4.08  Sydney Cricket Ground         12       2  \n",
      "3                 140           3.59  Sydney Cricket Ground         12      -2  \n",
      "4                 150           3.17             PETCO Park          4       2  \n",
      "...               ...            ...                    ...        ...     ...  \n",
      "35803             120           3.43          Busch Stadium          5       1  \n",
      "35804            -170           5.26         Yankee Stadium          1       1  \n",
      "35805             175           3.96       Globe Life Field          6       6  \n",
      "35806            -180           2.50          Rogers Centre         16      -8  \n",
      "35807             120           6.44         Nationals Park         12       2  \n",
      "\n",
      "[35808 rows x 19 columns]>\n",
      "(35808, 19)\n"
     ]
    }
   ],
   "source": [
    "df = pd.read_csv(\"Data/OddsData.csv\")\n",
    "print(df.head)\n",
    "print(df.shape)"
   ]
  },
  {
   "cell_type": "markdown",
   "id": "c971a81c",
   "metadata": {},
   "source": [
    "## Check for missing values and display summary statistics"
   ]
  },
  {
   "cell_type": "code",
   "execution_count": 5,
   "id": "9acc6ef7",
   "metadata": {},
   "outputs": [
    {
     "name": "stdout",
     "output_type": "stream",
     "text": [
      "Missing Values:\n",
      "date              0\n",
      "season            0\n",
      "team              0\n",
      "opponent          0\n",
      "runs              0\n",
      "oppRuns           0\n",
      "moneyLine         0\n",
      "runLine           0\n",
      "runLineOdds       0\n",
      "total             0\n",
      "overOdds          0\n",
      "underOdds         0\n",
      "oppMoneyLine      0\n",
      "oppRunLine        0\n",
      "oppRunLineOdds    0\n",
      "projectedRuns     0\n",
      "parkName          0\n",
      "totalRuns         0\n",
      "runDif            0\n",
      "dtype: int64 \n",
      "\n",
      "Summary Statistics:\n",
      "             season          runs       oppRuns     moneyLine       runLine  \\\n",
      "count  35808.000000  35808.000000  35808.000000  35808.000000  35808.000000   \n",
      "mean    2017.286137      4.473442      4.473442    -15.441019      0.000000   \n",
      "std        2.262436      3.160868      3.160868    151.629655      1.500021   \n",
      "min     2014.000000      0.000000      0.000000   -550.000000     -1.500000   \n",
      "25%     2015.000000      2.000000      2.000000   -142.000000     -1.500000   \n",
      "50%     2017.000000      4.000000      4.000000   -105.000000      0.000000   \n",
      "75%     2019.000000      6.000000      6.000000    128.000000      1.500000   \n",
      "max     2021.000000     29.000000     29.000000    425.000000      1.500000   \n",
      "\n",
      "        runLineOdds         total      overOdds     underOdds  oppMoneyLine  \\\n",
      "count  35808.000000  35808.000000  35808.000000  35808.000000  35808.000000   \n",
      "mean     -20.607211      8.472771    -67.960232    -71.962802    -15.441019   \n",
      "std      147.435203      1.148945     87.340425     84.637942    151.629655   \n",
      "min     -270.000000      4.500000   -142.000000   -142.000000   -550.000000   \n",
      "25%     -155.000000      7.500000   -115.000000   -115.000000   -142.000000   \n",
      "50%     -110.000000      8.500000   -110.000000   -110.000000   -105.000000   \n",
      "75%      135.000000      9.000000   -105.000000   -105.000000    128.000000   \n",
      "max      235.000000     15.000000    122.000000    122.000000    425.000000   \n",
      "\n",
      "         oppRunLine  oppRunLineOdds  projectedRuns     totalRuns        runDif  \n",
      "count  35808.000000    35808.000000   35808.000000  35808.000000  35808.000000  \n",
      "mean       0.000000      -20.607211       4.338270      8.946883      0.000000  \n",
      "std        1.500021      147.435203       1.053863      4.509241      4.430697  \n",
      "min       -1.500000     -270.000000       1.210000      1.000000    -21.000000  \n",
      "25%       -1.500000     -155.000000       3.590000      6.000000     -3.000000  \n",
      "50%        0.000000     -110.000000       4.250000      8.000000      0.000000  \n",
      "75%        1.500000      135.000000       5.000000     12.000000      3.000000  \n",
      "max        1.500000      235.000000       9.450000     38.000000     21.000000  \n"
     ]
    }
   ],
   "source": [
    "# Check for missing values\n",
    "print('Missing Values:')\n",
    "print(df.isnull().sum(), '\\n')\n",
    "\n",
    "# Show summary statistics\n",
    "print('Summary Statistics:')\n",
    "print(df.describe())"
   ]
  },
  {
   "cell_type": "markdown",
   "id": "6af2a40f",
   "metadata": {},
   "source": [
    "## Check for duplicate rows"
   ]
  },
  {
   "cell_type": "code",
   "execution_count": 6,
   "id": "2f3a08e5",
   "metadata": {},
   "outputs": [
    {
     "name": "stdout",
     "output_type": "stream",
     "text": [
      "Number of duplicate rows: 0\n"
     ]
    }
   ],
   "source": [
    "# Find duplicate rows\n",
    "duplicates = df[df.duplicated()]\n",
    "\n",
    "# Print the number of duplicates\n",
    "duplicate_count = df.duplicated().sum()\n",
    "print(f\"Number of duplicate rows: {duplicate_count}\")"
   ]
  },
  {
   "cell_type": "markdown",
   "id": "c3381f41",
   "metadata": {},
   "source": [
    "## Check data types"
   ]
  },
  {
   "cell_type": "code",
   "execution_count": 7,
   "id": "e18c8630",
   "metadata": {},
   "outputs": [
    {
     "name": "stdout",
     "output_type": "stream",
     "text": [
      "date               object\n",
      "season              int64\n",
      "team               object\n",
      "opponent           object\n",
      "runs                int64\n",
      "oppRuns             int64\n",
      "moneyLine           int64\n",
      "runLine           float64\n",
      "runLineOdds         int64\n",
      "total             float64\n",
      "overOdds            int64\n",
      "underOdds           int64\n",
      "oppMoneyLine        int64\n",
      "oppRunLine        float64\n",
      "oppRunLineOdds      int64\n",
      "projectedRuns     float64\n",
      "parkName           object\n",
      "totalRuns           int64\n",
      "runDif              int64\n",
      "dtype: object\n"
     ]
    }
   ],
   "source": [
    "print(df.dtypes)"
   ]
  },
  {
   "cell_type": "code",
   "execution_count": 8,
   "id": "bf5427a3",
   "metadata": {},
   "outputs": [
    {
     "name": "stdout",
     "output_type": "stream",
     "text": [
      "datetime64[ns]\n",
      "0   2014-03-22\n",
      "1   2014-03-22\n",
      "2   2014-03-23\n",
      "3   2014-03-23\n",
      "4   2014-03-30\n",
      "Name: date, dtype: datetime64[ns]\n"
     ]
    }
   ],
   "source": [
    "# Change date data type from object to datetime\n",
    "df['date'] = pd.to_datetime(df['date'], format='%m/%d/%Y', errors='coerce')\n",
    "\n",
    "# Check the date data type and show the head\n",
    "print(df['date'].dtype)\n",
    "print(df['date'].head()) "
   ]
  },
  {
   "cell_type": "markdown",
   "id": "90c9b140",
   "metadata": {},
   "source": [
    "## Create a cleaned copy of the data"
   ]
  },
  {
   "cell_type": "code",
   "execution_count": null,
   "id": "b8e28173",
   "metadata": {},
   "outputs": [],
   "source": [
    "df_clean = df.copy()"
   ]
  },
  {
   "cell_type": "code",
   "execution_count": 13,
   "id": "836e46ab",
   "metadata": {},
   "outputs": [
    {
     "name": "stdout",
     "output_type": "stream",
     "text": [
      "(35808, 19)\n"
     ]
    }
   ],
   "source": [
    "print(df_clean.shape)"
   ]
  },
  {
   "cell_type": "markdown",
   "id": "8c049abf",
   "metadata": {},
   "source": [
    "## Create the new cleaned file"
   ]
  },
  {
   "cell_type": "code",
   "execution_count": 11,
   "id": "c6ee9a1b",
   "metadata": {},
   "outputs": [
    {
     "name": "stdout",
     "output_type": "stream",
     "text": [
      "Clean dataset saved to Data/Cleaned_OddsData.csv\n"
     ]
    }
   ],
   "source": [
    "df_clean.to_csv(\"Data/Cleaned_OddsData.csv\", index=False)\n",
    "print(\"Clean dataset saved to Data/Cleaned_OddsData.csv\")"
   ]
  }
 ],
 "metadata": {
  "kernelspec": {
   "display_name": ".venv",
   "language": "python",
   "name": "python3"
  },
  "language_info": {
   "codemirror_mode": {
    "name": "ipython",
    "version": 3
   },
   "file_extension": ".py",
   "mimetype": "text/x-python",
   "name": "python",
   "nbconvert_exporter": "python",
   "pygments_lexer": "ipython3",
   "version": "3.13.2"
  }
 },
 "nbformat": 4,
 "nbformat_minor": 5
}
